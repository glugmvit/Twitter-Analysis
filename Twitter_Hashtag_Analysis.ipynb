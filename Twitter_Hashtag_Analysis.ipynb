{
 "cells": [
  {
   "cell_type": "code",
   "execution_count": 6,
   "metadata": {
    "scrolled": true
   },
   "outputs": [
    {
     "data": {
      "image/png": "[encoded data removed]",
      "text/plain": [
       "<Figure size 432x288 with 1 Axes>"
      ]
     },
     "metadata": {},
     "output_type": "display_data"
    }
   ],
   "source": [
    "import tweepy\n",
    "import csv\n",
    "import pandas as pd\n",
    "####input your credentials here\n",
    "consumer_key = 'Z0bEpYrdrA91bIqFhHIUN78Oz'\n",
    "consumer_secret = 'g5AudmBzHv1Y9eAjixXtV91TrgtCpX6NExb2QhNTV1fH3QAGcj'\n",
    "access_token = '957223669738045440-NI42JKqdmyN7HinPszkBQzev4L1It9n'\n",
    "access_token_secret = 'aGoJRuSkDguVnoSQ6SR87eVPcou5BcgR6gLdnwkS547n8'\n",
    "\n",
    "auth = tweepy.OAuthHandler(consumer_key, consumer_secret)\n",
    "auth.set_access_token(access_token, access_token_secret)\n",
    "api = tweepy.API(auth,wait_on_rate_limit=True)\n",
    "#####United Airlines\n",
    "# Open/Create a file to append data\n",
    "csvFile = open('tweets.csv', 'w')\n",
    "#Use csv Writer\n",
    "csvWriter = csv.writer(csvFile)\n",
    "\n",
    "for tweet in tweepy.Cursor(api.search,q=\"#ExploreMLBLR\",count=100,\n",
    "                           lang=\"en\",\n",
    "                           since=\"2019-10-03\").items():\n",
    "    #print (tweet.created_at, tweet.text)\n",
    "    csvWriter.writerow([tweet.user.screen_name, tweet.text.encode('utf-8')])\n",
    "\n",
    "csv = pd.read_csv('tweets.csv',names=[\"Username\",\"Tweet\"])\n",
    "count = csv['Username'].value_counts()[:]\n",
    "csv.head(10)\n",
    "\n",
    "top2 = count.head(2)\n",
    "top2\n",
    "\n",
    "import matplotlib.pyplot as plt\n",
    "colors =  [\"#E13F29\", \"#D69A80\", \"#D63B59\", \"#AE5552\", \"#CB5C3B\", \"#EB8076\", \"#96624E\"]\n",
    "top2.plot.pie(y=top2.index,\n",
    "           shadow=False,\n",
    "           colors=colors, \n",
    "           radius = 1000,\n",
    "           explode=(0, 0),   # exploding 'Friday'\n",
    "           startangle=90,\n",
    "           autopct='%1.1f%%',\n",
    "           textprops={'fontsize': 10})\n",
    "\n",
    "plt.axis('equal')\n",
    "plt.tight_layout()\n",
    "plt.show()\n",
    "    "
   ]
  },
  {
   "cell_type": "code",
   "execution_count": 7,
   "metadata": {},
   "outputs": [
    {
     "data": {
      "text/html": [
       "<div>\n",
       "<style scoped>\n",
       "    .dataframe tbody tr th:only-of-type {\n",
       "        vertical-align: middle;\n",
       "    }\n",
       "\n",
       "    .dataframe tbody tr th {\n",
       "        vertical-align: top;\n",
       "    }\n",
       "\n",
       "    .dataframe thead th {\n",
       "        text-align: right;\n",
       "    }\n",
       "</style>\n",
       "<table border=\"1\" class=\"dataframe\">\n",
       "  <thead>\n",
       "    <tr style=\"text-align: right;\">\n",
       "      <th></th>\n",
       "      <th>Username</th>\n",
       "      <th>Tweet</th>\n",
       "    </tr>\n",
       "  </thead>\n",
       "  <tbody>\n",
       "    <tr>\n",
       "      <th>0</th>\n",
       "      <td>SantchiWeb</td>\n",
       "      <td>b'RT @Naveenk4226: #ExploreML\\n#ExploreMLBLR\\n...</td>\n",
       "    </tr>\n",
       "    <tr>\n",
       "      <th>1</th>\n",
       "      <td>Naveenk4226</td>\n",
       "      <td>b'#ExploreML\\n#ExploreMLBLR\\nThe machine learn...</td>\n",
       "    </tr>\n",
       "    <tr>\n",
       "      <th>2</th>\n",
       "      <td>glugmvit</td>\n",
       "      <td>b'RT @GopinathanAswin: And we hav a large turn...</td>\n",
       "    </tr>\n",
       "    <tr>\n",
       "      <th>3</th>\n",
       "      <td>srishtinema</td>\n",
       "      <td>b'Starting to learn ML with memes!!\\n#ExploreM...</td>\n",
       "    </tr>\n",
       "    <tr>\n",
       "      <th>4</th>\n",
       "      <td>GopinathanAswin</td>\n",
       "      <td>b'And we hav a large turnout and still countin...</td>\n",
       "    </tr>\n",
       "    <tr>\n",
       "      <th>5</th>\n",
       "      <td>Ayushi21084272</td>\n",
       "      <td>b'Excited to organise it\\n#ExploreMLBLR https:...</td>\n",
       "    </tr>\n",
       "  </tbody>\n",
       "</table>\n",
       "</div>"
      ],
      "text/plain": [
       "          Username                                              Tweet\n",
       "0       SantchiWeb  b'RT @Naveenk4226: #ExploreML\\n#ExploreMLBLR\\n...\n",
       "1      Naveenk4226  b'#ExploreML\\n#ExploreMLBLR\\nThe machine learn...\n",
       "2         glugmvit  b'RT @GopinathanAswin: And we hav a large turn...\n",
       "3      srishtinema  b'Starting to learn ML with memes!!\\n#ExploreM...\n",
       "4  GopinathanAswin  b'And we hav a large turnout and still countin...\n",
       "5   Ayushi21084272  b'Excited to organise it\\n#ExploreMLBLR https:..."
      ]
     },
     "execution_count": 7,
     "metadata": {},
     "output_type": "execute_result"
    }
   ],
   "source": [
    "csv"
   ]
  },
  {
   "cell_type": "code",
   "execution_count": null,
   "metadata": {},
   "outputs": [],
   "source": []
  }
 ],
 "metadata": {
  "kernelspec": {
   "display_name": "Python 3",
   "language": "python",
   "name": "python3"
  },
  "language_info": {
   "codemirror_mode": {
    "name": "ipython",
    "version": 3
   },
   "file_extension": ".py",
   "mimetype": "text/x-python",
   "name": "python",
   "nbconvert_exporter": "python",
   "pygments_lexer": "ipython3",
   "version": "3.7.3"
  }
 },
 "nbformat": 4,
 "nbformat_minor": 2
}
