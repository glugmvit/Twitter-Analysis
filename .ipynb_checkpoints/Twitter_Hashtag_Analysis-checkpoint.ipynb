{
 "cells": [
  {
   "cell_type": "code",
   "execution_count": 4,
   "metadata": {
    "scrolled": true
   },
   "outputs": [],
   "source": [
    "import tweepy\n",
    "import csv\n",
    "import pandas as pd\n",
    "####input your credentials here\n",
    "consumer_key = 'Z0bEpYrdrA91bIqFhHIUN78Oz'\n",
    "consumer_secret = 'g5AudmBzHv1Y9eAjixXtV91TrgtCpX6NExb2QhNTV1fH3QAGcj'\n",
    "access_token = '957223669738045440-NI42JKqdmyN7HinPszkBQzev4L1It9n'\n",
    "access_token_secret = 'aGoJRuSkDguVnoSQ6SR87eVPcou5BcgR6gLdnwkS547n8'\n",
    "\n",
    "auth = tweepy.OAuthHandler(consumer_key, consumer_secret)\n",
    "auth.set_access_token(access_token, access_token_secret)\n",
    "api = tweepy.API(auth,wait_on_rate_limit=True)\n",
    "#####United Airlines\n",
    "# Open/Create a file to append data\n",
    "csvFile = open('tweets.csv', 'w')\n",
    "#Use csv Writer\n",
    "csvWriter = csv.writer(csvFile)\n",
    "\n",
    "for tweet in tweepy.Cursor(api.search,q=\"#ExploreML\",count=100,\n",
    "                           lang=\"en\",\n",
    "                           since=\"2019-10-03\").items():\n",
    "    #print (tweet.created_at, tweet.text)\n",
    "    csvWriter.writerow([tweet.user.screen_name, tweet.text.encode('utf-8')])\n",
    "\n"
   ]
  },
  {
   "cell_type": "code",
   "execution_count": 8,
   "metadata": {},
   "outputs": [
    {
     "data": {
      "text/html": [
       "<div>\n",
       "<style scoped>\n",
       "    .dataframe tbody tr th:only-of-type {\n",
       "        vertical-align: middle;\n",
       "    }\n",
       "\n",
       "    .dataframe tbody tr th {\n",
       "        vertical-align: top;\n",
       "    }\n",
       "\n",
       "    .dataframe thead th {\n",
       "        text-align: right;\n",
       "    }\n",
       "</style>\n",
       "<table border=\"1\" class=\"dataframe\">\n",
       "  <thead>\n",
       "    <tr style=\"text-align: right;\">\n",
       "      <th></th>\n",
       "      <th>Username</th>\n",
       "      <th>Tweet</th>\n",
       "    </tr>\n",
       "  </thead>\n",
       "  <tbody>\n",
       "    <tr>\n",
       "      <th>0</th>\n",
       "      <td>nandkk05</td>\n",
       "      <td>b'RT @Jagrati87016003: Dive into new emerging ...</td>\n",
       "    </tr>\n",
       "    <tr>\n",
       "      <th>1</th>\n",
       "      <td>debalina_de</td>\n",
       "      <td>b'RT @Jagrati87016003: Dive into new emerging ...</td>\n",
       "    </tr>\n",
       "    <tr>\n",
       "      <th>2</th>\n",
       "      <td>Jagrati87016003</td>\n",
       "      <td>b'Dive into new emerging Technolgy.. Future of...</td>\n",
       "    </tr>\n",
       "    <tr>\n",
       "      <th>3</th>\n",
       "      <td>frankline_kihiu</td>\n",
       "      <td>b'RT @DscMeru: Explore ML Day 2\\xf0\\x9f\\x94\\xa...</td>\n",
       "    </tr>\n",
       "    <tr>\n",
       "      <th>4</th>\n",
       "      <td>GopinathanAswin</td>\n",
       "      <td>b'Onlyy.9 hours to go for #ExploreML at Sir M ...</td>\n",
       "    </tr>\n",
       "    <tr>\n",
       "      <th>5</th>\n",
       "      <td>auwalms</td>\n",
       "      <td>b'RT @DscMeru: Explore ML Day 2\\xf0\\x9f\\x94\\xa...</td>\n",
       "    </tr>\n",
       "    <tr>\n",
       "      <th>6</th>\n",
       "      <td>PsePrince</td>\n",
       "      <td>b'RT @dsccgc: Happy faces after successful org...</td>\n",
       "    </tr>\n",
       "    <tr>\n",
       "      <th>7</th>\n",
       "      <td>ravii_rana</td>\n",
       "      <td>b'RT @dsccgc: Machine Learning, an event from ...</td>\n",
       "    </tr>\n",
       "    <tr>\n",
       "      <th>8</th>\n",
       "      <td>PsePrince</td>\n",
       "      <td>b'RT @ravii_rana: Done and dusted with the wor...</td>\n",
       "    </tr>\n",
       "    <tr>\n",
       "      <th>9</th>\n",
       "      <td>GautamS22262354</td>\n",
       "      <td>b'RT @debalina_de: Another amazing workshop un...</td>\n",
       "    </tr>\n",
       "  </tbody>\n",
       "</table>\n",
       "</div>"
      ],
      "text/plain": [
       "          Username                                              Tweet\n",
       "0         nandkk05  b'RT @Jagrati87016003: Dive into new emerging ...\n",
       "1      debalina_de  b'RT @Jagrati87016003: Dive into new emerging ...\n",
       "2  Jagrati87016003  b'Dive into new emerging Technolgy.. Future of...\n",
       "3  frankline_kihiu  b'RT @DscMeru: Explore ML Day 2\\xf0\\x9f\\x94\\xa...\n",
       "4  GopinathanAswin  b'Onlyy.9 hours to go for #ExploreML at Sir M ...\n",
       "5          auwalms  b'RT @DscMeru: Explore ML Day 2\\xf0\\x9f\\x94\\xa...\n",
       "6        PsePrince  b'RT @dsccgc: Happy faces after successful org...\n",
       "7       ravii_rana  b'RT @dsccgc: Machine Learning, an event from ...\n",
       "8        PsePrince  b'RT @ravii_rana: Done and dusted with the wor...\n",
       "9  GautamS22262354  b'RT @debalina_de: Another amazing workshop un..."
      ]
     },
     "execution_count": 8,
     "metadata": {},
     "output_type": "execute_result"
    }
   ],
   "source": [
    "csv = pd.read_csv('tweets.csv',names=[\"Username\",\"Tweet\"])\n",
    "count = csv['Username'].value_counts()[:]\n",
    "csv.head(10)\n"
   ]
  },
  {
   "cell_type": "code",
   "execution_count": 9,
   "metadata": {},
   "outputs": [
    {
     "data": {
      "text/plain": [
       "nandkk05    10\n",
       "DscMeru      7\n",
       "Name: Username, dtype: int64"
      ]
     },
     "execution_count": 9,
     "metadata": {},
     "output_type": "execute_result"
    }
   ],
   "source": [
    "top2 = count.head(2)\n",
    "top2"
   ]
  },
  {
   "cell_type": "code",
   "execution_count": 10,
   "metadata": {},
   "outputs": [
    {
     "data": {
      "image/png": "[encoded data removed]",
      "text/plain": [
       "<Figure size 432x288 with 1 Axes>"
      ]
     },
     "metadata": {},
     "output_type": "display_data"
    }
   ],
   "source": [
    "import matplotlib.pyplot as plt\n",
    "colors =  [\"#E13F29\", \"#D69A80\", \"#D63B59\", \"#AE5552\", \"#CB5C3B\", \"#EB8076\", \"#96624E\"]\n",
    "top3.plot.pie(y=top3.index,\n",
    "           shadow=False,\n",
    "           colors=colors, \n",
    "           radius = 1000,\n",
    "           explode=(0, 0),   # exploding 'Friday'\n",
    "           startangle=90,\n",
    "           autopct='%1.1f%%',\n",
    "           textprops={'fontsize': 10})\n",
    "\n",
    "plt.axis('equal')\n",
    "plt.tight_layout()\n",
    "plt.show()\n",
    "    "
   ]
  },
  {
   "cell_type": "code",
   "execution_count": null,
   "metadata": {},
   "outputs": [],
   "source": []
  }
 ],
 "metadata": {
  "kernelspec": {
   "display_name": "Python 3",
   "language": "python",
   "name": "python3"
  },
  "language_info": {
   "codemirror_mode": {
    "name": "ipython",
    "version": 3
   },
   "file_extension": ".py",
   "mimetype": "text/x-python",
   "name": "python",
   "nbconvert_exporter": "python",
   "pygments_lexer": "ipython3",
   "version": "3.7.3"
  }
 },
 "nbformat": 4,
 "nbformat_minor": 2
}
